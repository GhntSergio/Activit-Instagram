{
 "cells": [
  {
   "cell_type": "markdown",
   "metadata": {},
   "source": [
    "# Projet de Suivi d'Activité Instagram avec Selenium\n",
    "\n",
    "## Contexte\n",
    "\n",
    "Instagram est une plateforme de médias sociaux populaire où les utilisateurs interagissent en regardant des vidéos, en les likant, et en se connectant fréquemment. Afin de mieux comprendre son propre comportement sur la plateforme, ce projet utilise **Selenium**, un outil d'automatisation de navigateur, pour surveiller les interactions sur Instagram.\n",
    "\n",
    "## Objectifs\n",
    "\n",
    "- **Suivre le nombre de connexions** à votre compte Instagram.\n",
    "- **Mesurer le temps total passé** sur Instagram.\n",
    "- **Compter le nombre de vidéos regardées** pendant la session.\n",
    "- **Calculer le nombre de vidéos likées** pendant la session.\n",
    "\n",
    "## Prérequis\n",
    "\n",
    "- **Python** installé sur votre machine.\n",
    "- **Selenium** pour l'automatisation du navigateur.\n",
    "- **WebDriver** approprié pour votre navigateur (par exemple, [ChromeDriver](https://sites.google.com/a/chromium.org/chromedriver/) pour Google Chrome).\n",
    "\n",
    "## Démarche du Projet\n",
    "\n",
    "### Configuration de Selenium\n",
    "\n",
    "1. **Initialiser le navigateur** et naviguer vers Instagram.\n",
    "2. **Se connecter au compte Instagram** en utilisant les informations d'identification fournies.\n",
    "\n",
    "### Surveillance de l'Activité\n",
    "\n",
    "1. **Suivre les interactions** de la session en détectant les vidéos vues et les vidéos likées.\n",
    "2. **Compter et enregistrer** le nombre de fois où vous vous connectez et le temps total passé.\n",
    "\n",
    "### Collecte et Rapport des Données\n",
    "\n",
    "1. Après la fin de la session, **calculer le temps total passé** et afficher les statistiques collectées.\n",
    "\n",
    "## Explications\n",
    "\n",
    "- **Initialisation** : Le script démarre une instance de Chrome et accède à Instagram.\n",
    "\n",
    "- **Connexion** : Le script entre les identifiants de connexion et se connecte à votre compte.\n",
    "\n",
    "- **Surveillance** :\n",
    "  - La fonction `check_activity()` surveille les vidéos vues et les likes toutes les minutes.\n",
    "  - La variable `connection_count` est incrémentée à chaque vérification pour suivre les connexions.\n",
    "\n",
    "- **Reporting** : À la fin de la session (interruption avec `Ctrl+C`), le script affiche le nombre total de connexions, vidéos regardées, likes, et le temps total passé."
   ]
  },
  {
   "cell_type": "code",
   "execution_count": null,
   "metadata": {},
   "outputs": [],
   "source": [
    "# Installation des dépendances\n",
    "# pip install selenium"
   ]
  },
  {
   "cell_type": "code",
   "execution_count": 1,
   "metadata": {},
   "outputs": [],
   "source": [
    "from selenium import webdriver\n",
    "from selenium.webdriver.common.by import By\n",
    "from selenium.webdriver.common.keys import Keys\n",
    "import time\n",
    "import os\n",
    "import json\n",
    "import pandas as pd\n",
    "from datetime import datetime"
   ]
  },
  {
   "cell_type": "code",
   "execution_count": 2,
   "metadata": {},
   "outputs": [],
   "source": [
    "# Configuration du WebDriver (assurez-vous que le chemin est correct)\n",
    "driver = webdriver.Chrome()  # Remplacez par le chemin du ChromeDriver si nécessaire"
   ]
  },
  {
   "cell_type": "code",
   "execution_count": 3,
   "metadata": {},
   "outputs": [],
   "source": [
    "# Accéder à Instagram\n",
    "driver.get(\"https://www.instagram.com\")"
   ]
  },
  {
   "cell_type": "code",
   "execution_count": 4,
   "metadata": {},
   "outputs": [],
   "source": [
    "# Charger les informations de connexion depuis le fichier de configuration\n",
    "with open('config.json', 'r') as file:\n",
    "    config = json.load(file)\n",
    "\n",
    "username_str = config['username']\n",
    "password_str = config['password']"
   ]
  },
  {
   "cell_type": "code",
   "execution_count": 5,
   "metadata": {},
   "outputs": [],
   "source": [
    "# Se connecter\n",
    "time.sleep(2)  # Attendre que la page se charge\n",
    "username = driver.find_element(By.NAME, \"username\")\n",
    "password = driver.find_element(By.NAME, \"password\")\n",
    "username.send_keys(username_str)\n",
    "password.send_keys(password_str)\n",
    "password.send_keys(Keys.RETURN)"
   ]
  },
  {
   "cell_type": "code",
   "execution_count": 6,
   "metadata": {},
   "outputs": [],
   "source": [
    "# Attendre que la connexion soit complète\n",
    "time.sleep(5 * 60)"
   ]
  },
  {
   "cell_type": "code",
   "execution_count": null,
   "metadata": {},
   "outputs": [],
   "source": [
    "# Initialiser des variables pour suivre les interactions\n",
    "connection_count = 0\n",
    "video_view_count = 0\n",
    "like_count = 0\n",
    "session_start_time = time.time()"
   ]
  },
  {
   "cell_type": "code",
   "execution_count": null,
   "metadata": {},
   "outputs": [],
   "source": [
    "def check_activity():\n",
    "    global connection_count, video_view_count, like_count\n",
    "    \n",
    "    # Compter les vidéos regardées (ceci est un exemple simplifié)\n",
    "    videos = driver.find_elements_by_tag_name(\"video\")\n",
    "    video_view_count += len(videos)\n",
    "    \n",
    "    # Compter les likes (exemple simplifié)\n",
    "    likes = driver.find_elements_by_css_selector(\"svg[aria-label='Like']\")\n",
    "    like_count += len(likes)\n",
    "    \n",
    "    # Autres logiques pour détecter les connexions\n",
    "    connection_count += 1"
   ]
  },
  {
   "cell_type": "code",
   "execution_count": null,
   "metadata": {},
   "outputs": [],
   "source": [
    "try:\n",
    "    while True:\n",
    "        check_activity()\n",
    "        time.sleep(60)  # Vérifier toutes les minutes\n",
    "except KeyboardInterrupt:\n",
    "    session_end_time = time.time()\n",
    "    total_time_spent = session_end_time - session_start_time\n",
    "    connection_count = 1  # Nombre de connexions dans cette session\n",
    "    # Créer un DataFrame avec les nouvelles données\n",
    "    data = {\n",
    "        \"date\": [datetime.now().strftime('%Y-%m-%d')],\n",
    "        \"nb vidéos\": [video_view_count],\n",
    "        \"nb likes vidéos\": [like_count],\n",
    "        \"temps passé sur IG (minutes)\": [total_time_spent / 60],\n",
    "        \"nb connexions\": [connection_count]\n",
    "    }\n",
    "    df_new = pd.DataFrame(data)\n",
    "\n",
    "    # Chemin vers le fichier CSV\n",
    "    file_path = \"instagram_activity.csv\"\n",
    "\n",
    "    try:\n",
    "        # Charger les données existantes si le fichier existe\n",
    "        df_existing = pd.read_csv(file_path)\n",
    "        # Remplacer les données pour la même date\n",
    "        df_existing = df_existing[df_existing['date'] != data['date'][0]]\n",
    "        # Ajouter les nouvelles données\n",
    "        df_existing = pd.concat([df_existing, df_new], ignore_index=True)\n",
    "    except FileNotFoundError:\n",
    "        # Si le fichier n'existe pas, utiliser le DataFrame des nouvelles données\n",
    "        df_existing = df_new\n",
    "\n",
    "    # Sauvegarder le DataFrame dans le fichier CSV\n",
    "    df_existing.to_csv(file_path, index=False)\n",
    "\n",
    "finally:\n",
    "    driver.quit()"
   ]
  },
  {
   "cell_type": "code",
   "execution_count": null,
   "metadata": {},
   "outputs": [],
   "source": []
  }
 ],
 "metadata": {
  "kernelspec": {
   "display_name": "base",
   "language": "python",
   "name": "python3"
  },
  "language_info": {
   "codemirror_mode": {
    "name": "ipython",
    "version": 3
   },
   "file_extension": ".py",
   "mimetype": "text/x-python",
   "name": "python",
   "nbconvert_exporter": "python",
   "pygments_lexer": "ipython3",
   "version": "3.11.5"
  }
 },
 "nbformat": 4,
 "nbformat_minor": 2
}
